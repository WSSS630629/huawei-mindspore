{
 "cells": [
  {
   "cell_type": "markdown",
   "id": "4d5d45b8",
   "metadata": {},
   "source": [
    "# 基于Mindspore构造线性回归的损失函数---MSE（均方误差）损失函数"
   ]
  },
  {
   "attachments": {
    "image.png": {
     "image/png": "[encoded data removed]"
    }
   },
   "cell_type": "markdown",
   "id": "0bc5f935",
   "metadata": {},
   "source": [
    "线性回归的损失函数是MSE（均方误差）\n",
    "\n",
    "MSE是真实值与预测值的差值的平方然后求和平均\n",
    "\n",
    "![image.png](attachment:image.png)\n",
    "\n",
    "范围[ 0,+∞），当预测值与真实值完全相同时为0，误差越大，该值越大。"
   ]
  },
  {
   "cell_type": "markdown",
   "id": "9a3303e0",
   "metadata": {},
   "source": [
    "采用自定义损失函数--通过继承损失函数的基类nn.LossBase来定义损失函数。\n",
    "\n",
    "nn.LossBase在nn.Cell的基础上，提供了get_loss方法，利用reduction参数对损失值求和或求均值，输出一个标量。"
   ]
  },
  {
   "cell_type": "code",
   "execution_count": 38,
   "id": "3beb2734",
   "metadata": {},
   "outputs": [
    {
     "name": "stdout",
     "output_type": "stream",
     "text": [
      "3.3333345e-05\n"
     ]
    }
   ],
   "source": [
    "import numpy as np\n",
    "import mindspore.nn as nn\n",
    "import mindspore.ops as ops\n",
    "from mindspore import Tensor\n",
    "\n",
    "class MSELoss(nn.LossBase):  \n",
    "    # \"\"\"自定义损失函数MSEloss\"\"\"\n",
    "    \n",
    "    def __init__(self,reduction=\"mean\"):\n",
    "        # \"\"\"完成初始化并求loss的均值\"\"\"\n",
    "        \n",
    "        super(MSELoss, self).__init__(reduction)\n",
    "        self.square = ops.Square()    # \"\"\"求平方算子\"\"\"\n",
    "    \n",
    "    def construct(self, base, target):\n",
    "        x = self.square(self.square(base - target))   # \"\"\"求平方运算\"\"\"\n",
    "        return  self.get_loss(x) \n",
    "        # \"\"\"返回loss的均值\"\"\"\n",
    "loss = MSELoss()\n",
    "\n",
    "input_data = Tensor(np.array([0.1, 0.2, 0.3]).astype(np.float32))  # 生成预测值\n",
    "target_data = Tensor(np.array([0.1, 0.2, 0.2]).astype(np.float32)) # 生成真实值\n",
    "\n",
    "output = loss(input_data, target_data)\n",
    "print(output)"
   ]
  },
  {
   "cell_type": "code",
   "execution_count": null,
   "id": "1682b847",
   "metadata": {},
   "outputs": [],
   "source": []
  }
 ],
 "metadata": {
  "kernelspec": {
   "display_name": "Python 3 (ipykernel)",
   "language": "python",
   "name": "python3"
  },
  "language_info": {
   "codemirror_mode": {
    "name": "ipython",
    "version": 3
   },
   "file_extension": ".py",
   "mimetype": "text/x-python",
   "name": "python",
   "nbconvert_exporter": "python",
   "pygments_lexer": "ipython3",
   "version": "3.9.12"
  }
 },
 "nbformat": 4,
 "nbformat_minor": 5
}
